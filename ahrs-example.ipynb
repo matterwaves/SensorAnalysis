{
 "cells": [
  {
   "cell_type": "markdown",
   "metadata": {},
   "source": [
    "# Todo list:\n",
    "\n",
    "1. Calibrate the DC value of the accelerometer\n",
    "1. Convert units to m/s^2 everywhere\n",
    "2. Calibrate the gyro tilt\n",
    "3. measure covariances of all the sensors"
   ]
  },
  {
   "cell_type": "code",
   "execution_count": 3,
   "metadata": {},
   "outputs": [],
   "source": [
    "import pandas as pd\n",
    "import matplotlib.pyplot as plt\n",
    "import csv\n",
    "import numpy as np\n",
    "from scipy import fft\n",
    "from numpy import exp,sin,cos,pi\n",
    "from numpy.linalg import norm\n",
    "#from pyquaternion import Quaternion \n",
    "from scipy.optimize import minimize\n",
    "\n",
    "from utils import *\n",
    "\n",
    "import ahrs\n",
    "from ahrs import Quaternion\n",
    "from geomag.geomag import GeoMag\n"
   ]
  },
  {
   "cell_type": "code",
   "execution_count": null,
   "metadata": {},
   "outputs": [],
   "source": [
    "## Geomagnetic data\n",
    "## coordinates at hillegas x parker in berkeley\n",
    "lat=37.864\n",
    "lon=-122.256\n",
    "gm=GeoMag().GeoMag(lat,lon)\n",
    "gm.dec\n",
    "gm.dip"
   ]
  },
  {
   "cell_type": "code",
   "execution_count": 84,
   "metadata": {},
   "outputs": [],
   "source": [
    "## Read in the data\n",
    "raw_dat=load_endaq_log(\"data/accel_cal_\")\n",
    "\n",
    "#Pull out the sensor data synchronized to the magnetometer\n",
    "dfMag=raw_dat['mag']\n",
    "ts=dfMag.index.to_numpy(dtype=np.float32)/1e9\n",
    "ts=ts-ts[0]\n",
    "mag=dfMag.to_numpy()\n",
    "gyro=(pi/180)*synchronize_series(raw_dat['gyro'],ref=dfMag).to_numpy()\n",
    "\n",
    "## the 8g accelerometer is much better than the 16g or the integrated IMU accelerometer\n",
    "## But there may be a small angle correction between the accelerometer and gyroscope reference axes\n",
    "acc8=   synchronize_series(raw_dat['acc8'],ref=dfMag).to_numpy()\n",
    "accIMU= synchronize_series(raw_dat['accIMU'],ref=dfMag).to_numpy()\n",
    "acc16=  synchronize_series(raw_dat['acc16'],ref=dfMag).to_numpy()\n",
    "\n",
    "\n",
    "\n",
    "## Apply calibration or corrections!!"
   ]
  },
  {
   "cell_type": "code",
   "execution_count": 50,
   "metadata": {},
   "outputs": [],
   "source": [
    "## Compute the frequency and number of samples\n",
    "dt=np.mean(ts[1:]-ts[0:-1])\n",
    "freq=1/dt\n",
    "num_samples=len(ts)\n",
    "\n",
    "# Initialize the AHRS filter\n",
    "madgwick=ahrs.filters.Madgwick(beta=0.1,frequency=freq)"
   ]
  },
  {
   "cell_type": "code",
   "execution_count": 89,
   "metadata": {
    "scrolled": true
   },
   "outputs": [
    {
     "data": {
      "text/plain": [
       "[<matplotlib.lines.Line2D at 0x7f64e429b470>]"
      ]
     },
     "execution_count": 89,
     "metadata": {},
     "output_type": "execute_result"
    },
    {
     "data": {
      "image/png": "[encoded data removed]",
      "text/plain": [
       "<Figure size 432x288 with 1 Axes>"
      ]
     },
     "metadata": {
      "needs_background": "light"
     },
     "output_type": "display_data"
    }
   ],
   "source": [
    "# For each time step apply the estimation filter\n",
    "\n",
    "# Allocate arrays\n",
    "\n",
    "# Initial orientation is set as the reference\n",
    "QMARG= np.tile([1.,0.,0.,0.],(num_samples,1))\n",
    "QIMU= np.tile([1.,0.,0.,0.],(num_samples,1))\n",
    "ACC_LAB=np.zeros((num_samples,3))\n",
    "# Use kalman filter for estimating position + velocity\n",
    "# state[t]= (x,y,z,vx,vy,vz)\n",
    "state=np.zeros((num_samples,6))\n",
    "\n",
    "\n",
    "## Initial state\n",
    "\n",
    "## Process transition matrix\n",
    "## x=x0 + v0 dt + 1/2 (a-g) dt^2\n",
    "A=np.matrix(\\\n",
    "[\\\n",
    "[1,  0,  0,  dt,  0,  0  ] ,\\\n",
    "[0,  1,  0,  0,  dt,  0  ] ,\\\n",
    "[0,  0,  1,  0,  0,  dt  ] ,\\\n",
    "[0,  0,  0,  1,  0,  0   ] ,\\\n",
    "[0,  0,  0,  0,  1,  0   ] ,\\\n",
    "[0,  0,  0,  0,  0,  1   ] ,\\\n",
    "]\\\n",
    ")\n",
    "## Control matrix\n",
    "B=np.matrix(\\\n",
    "[\\\n",
    "[dt**2/2,  0,    0    ] ,\\\n",
    "[0,    dt**2/2,  0    ] ,\\\n",
    "[0,        0,  dt**2/2] ,\\\n",
    "[dt,       0,    0    ] ,\\\n",
    "[0,       dt,    0    ] ,\\\n",
    "[0,        0,    dt   ] ,\\\n",
    "]\\\n",
    ")\n",
    "\n",
    "## Gravity vector\n",
    "g=np.array([0,0,1])\n",
    "\n",
    "## set the interval between zeroing the state\n",
    "zero_period=0.300\n",
    "next_zero=zero_period\n",
    "\n",
    "\n",
    "for t in range(1,num_samples):\n",
    "    \n",
    "    # Orientation estimation using madwick filter\n",
    "    QMARG[t]=madgwick.updateMARG(QMARG[t-1],gyro[t],acc8[t],mag[t])\n",
    "    QIMU[t]=madgwick.updateIMU(QIMU[t-1],gyro[t],acc8[t])\n",
    "    \n",
    "    #Rotate the acceleration vector from sensor frame to lab frame\n",
    "    ACC_LAB[t]=Quaternion(QIMU[t]).rotate(acc8[t])-g\n",
    "    \n",
    "    #Update the state using the process and control matrices\n",
    "    state[t]=A.dot(state[t-1])+B.dot(ACC_LAB[t-1])\n",
    "    \n",
    "    \n",
    "    ## Periodically re-zero the state\n",
    "    ## This is for inspecting the short-term performance\n",
    "    if ts[t] > next_zero:\n",
    "        state[t]=np.zeros(6)\n",
    "        next_zero=ts[t]+zero_period\n",
    "    \n",
    "    \n",
    "## Plot the quaternions from the two different methods\n",
    "#ahrs.utils.plot_quaternions(QMARG)\n",
    "#ahrs.utils.plot_quaternions(QIMU)\n",
    "\n",
    "## Compare the rotated and unrotated acceleration \n",
    "#plt.plot(ts,acc8[:,0])\n",
    "#plt.plot(ts,acc8[:,1])\n",
    "#plt.plot(ts,acc8[:,2])\n",
    "\n",
    "plt.plot(ts,ACC_LAB[:,0])\n",
    "plt.plot(ts,ACC_LAB[:,1])\n",
    "plt.plot(ts,ACC_LAB[:,2])\n"
   ]
  },
  {
   "cell_type": "code",
   "execution_count": 96,
   "metadata": {},
   "outputs": [
    {
     "data": {
      "text/plain": [
       "[<matplotlib.lines.Line2D at 0x7f64e4052be0>]"
      ]
     },
     "execution_count": 96,
     "metadata": {},
     "output_type": "execute_result"
    },
    {
     "data": {
      "image/png": "[encoded data removed]",
      "text/plain": [
       "<Figure size 432x288 with 1 Axes>"
      ]
     },
     "metadata": {
      "needs_background": "light"
     },
     "output_type": "display_data"
    }
   ],
   "source": [
    "## Inspect the dead-reckoning position estimate\n",
    "tmax=6\n",
    "tmin=5\n",
    "mask=(ts<tmax) & (ts>tmin)\n",
    "plt.plot(ts[mask],state[mask,0],marker=\".\")\n",
    "plt.plot(ts[mask],state[mask,1],marker=\".\")\n",
    "plt.plot(ts[mask],state[mask,2],marker=\".\")"
   ]
  },
  {
   "cell_type": "code",
   "execution_count": 83,
   "metadata": {},
   "outputs": [
    {
     "data": {
      "text/plain": [
       "array([False, False,  True,  True, False, False])"
      ]
     },
     "execution_count": 83,
     "metadata": {},
     "output_type": "execute_result"
    }
   ],
   "source": [
    "tmax=4\n",
    "tmin=1\n",
    "ts=np.array([0,1,2,3,4,5])\n",
    "(tmin<ts) & (ts<tmax)"
   ]
  },
  {
   "cell_type": "code",
   "execution_count": 64,
   "metadata": {},
   "outputs": [
    {
     "data": {
      "text/plain": [
       "array([0.        , 0.03981   , 0.07962003, 0.11943102, 0.15924102,\n",
       "       0.19905102, 0.23886096, 0.27867103, 0.31848198, 0.35829204],\n",
       "      dtype=float32)"
      ]
     },
     "execution_count": 64,
     "metadata": {},
     "output_type": "execute_result"
    }
   ],
   "source": [
    "ts[0:10]"
   ]
  },
  {
   "cell_type": "code",
   "execution_count": 88,
   "metadata": {},
   "outputs": [
    {
     "data": {
      "text/plain": [
       "0.022222222222222223"
      ]
     },
     "execution_count": 88,
     "metadata": {},
     "output_type": "execute_result"
    }
   ],
   "source": [
    "2*10**-3/(0.3**2)"
   ]
  },
  {
   "cell_type": "code",
   "execution_count": null,
   "metadata": {},
   "outputs": [],
   "source": []
  }
 ],
 "metadata": {
  "kernelspec": {
   "display_name": "Python 3",
   "language": "python",
   "name": "python3"
  },
  "language_info": {
   "codemirror_mode": {
    "name": "ipython",
    "version": 3
   },
   "file_extension": ".py",
   "mimetype": "text/x-python",
   "name": "python",
   "nbconvert_exporter": "python",
   "pygments_lexer": "ipython3",
   "version": "3.6.9"
  }
 },
 "nbformat": 4,
 "nbformat_minor": 2
}
