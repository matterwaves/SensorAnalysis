{
 "cells": [
  {
   "cell_type": "code",
   "execution_count": 1,
   "metadata": {},
   "outputs": [],
   "source": [
    "import pandas as pd\n",
    "import matplotlib.pyplot as plt\n",
    "import csv\n",
    "import numpy as np\n",
    "from scipy import fft\n",
    "from numpy import exp,sin,cos,pi\n",
    "from numpy.linalg import norm\n",
    "from pyquaternion import Quaternion \n",
    "from scipy.optimize import minimize\n",
    "\n",
    "from utils import *"
   ]
  },
  {
   "cell_type": "code",
   "execution_count": 3,
   "metadata": {},
   "outputs": [],
   "source": [
    "#Read in the raw data\n",
    "raw_dat=load_endaq_log(\"data/accel_cal_\")\n",
    "\n",
    "#Pull out the magnetometer data in numpy form\n",
    "dfMag=raw_dat['mag']\n",
    "mag=dfMag.to_numpy()\n",
    "# Get the magnetometer time series in seconds\n",
    "ts=dfMag.index.to_numpy(dtype=np.float32)/1e9\n",
    "ts=ts-ts[0]\n",
    "\n",
    "# Synch the gyro to the magnetometer, convert to radians/s\n",
    "gyro=(pi/180)*synchronize_series(raw_dat['gyro'],ref=dfMag).to_numpy()\n",
    "\n",
    "#Sync the accelerometer to the gyro\n",
    "#the 8g accelerometer is by far the best.\n",
    "acc=   synchronize_series(raw_dat['acc8'],ref=dfMag).to_numpy()\n"
   ]
  },
  {
   "cell_type": "code",
   "execution_count": 4,
   "metadata": {},
   "outputs": [],
   "source": [
    "##Apply an iteration of the optomization loop\n",
    "\n",
    "   \n",
    "\n",
    "def msqError(params,intervals,acc,gyro,mag,ts,g=np.array([0,0,9.799])):\n",
    "    \"\"\"\n",
    "    Evaluate the msq error of the calibration/orientation model \n",
    "    params=[scalex, scaley,scalez, biasx,biasy,biasz, q_w,q_i,q_j,q_k]\n",
    "    \n",
    "    intervals=[(a1,b1),(a2,b2),...]\n",
    "        sections of the calibration data set which are quiet\n",
    "        used for calculating the msq error at the end\n",
    "    \n",
    "    acc:\n",
    "        acclerometer time series\n",
    "        \n",
    "    gyro:\n",
    "        gyroscope time series\n",
    "    \n",
    "    mag:\n",
    "        magnetometer time series\n",
    "    \n",
    "    ts:\n",
    "        time values\n",
    "        \n",
    "    make sure that acc,gyro,mag are time synced\n",
    "    \n",
    "    \"\"\"\n",
    "    scale=params[0:3]\n",
    "    bias=params[3:6]\n",
    "    q0=params[6:]\n",
    "    \n",
    "    ## Apply scale-bias calibration\n",
    "    acc_calibrated=acc.dot(np.diag(scale))+bias\n",
    "    \n",
    "    #Apply the madgwick filter to get the heading correction\n",
    "    #Using the initial orientation\n",
    "    ACC_LAB,QIMU=apply_ahrs(gyro,acc_calibrated,mag,ts,q0=q0,g=g)\n",
    "    \n",
    "    # Use compare the measured acceleration in the lab frame to the gravitational model\n",
    "    # When everything is calibrated, the lab frame acceleration should be zero during the time period\n",
    "    # specified in intervals\n",
    "    t_select,ACC_LAB_SELECT=idx_filter(ts,ACC_LAB,intervals)\n",
    "    return 3*np.mean(ACC_LAB_SELECT**2)"
   ]
  },
  {
   "cell_type": "code",
   "execution_count": null,
   "metadata": {},
   "outputs": [
    {
     "name": "stdout",
     "output_type": "stream",
     "text": [
      "0.0771140219246814\n"
     ]
    }
   ],
   "source": [
    "params=np.array([\\\n",
    "    1.0,1.0,1.0,\\\n",
    "     0.0,0.0,0.0,\\\n",
    "     1.0,0.0,0.0,0.0 \\\n",
    "    ])\n",
    "\n",
    "intervals=[\\\n",
    "          (0,9),\\\n",
    "          (11,20),\\\n",
    "          (23,33),\\\n",
    "          (36.5,45.5),\\\n",
    "          (47,55),\\\n",
    "          (59,70),\\\n",
    "          ]       \n",
    "print(msqError(params,intervals,acc,gyro,mag,ts))\n",
    "\n",
    "func = lambda params: msqError(params,intervals,acc,gyro,mag,ts)\n",
    "minimize(func,params)"
   ]
  },
  {
   "cell_type": "code",
   "execution_count": null,
   "metadata": {},
   "outputs": [],
   "source": [
    "\n",
    "## Downsample the accerometer measurements\n",
    "dfIMU=raw_dat['accIMU'].resample('30ms').apply(np.mean)\n",
    "df8=raw_dat['acc8'].resample('30ms').apply(np.mean)\n",
    "df16=raw_dat['acc16'].resample('30ms').apply(np.mean)\n",
    "\n",
    "\n",
    "## inject the IMU sensor timestamps and interpolate\n",
    "df8 = df8.reindex(df8.index.union(dfIMU.index)).interpolate()\n",
    "df16=df16.reindex(df16.index.union(dfIMU.index)).interpolate()\n",
    "\n",
    "## Slice out only the synchronous estimates\n",
    "df8=df8.loc[dfIMU.index]\n",
    "df16=df16.loc[dfIMU.index]\n",
    "\n",
    "## Reshape into matrix form for calculations\n",
    "ts=df8.index.to_numpy(dtype=np.float32)/1e9\n",
    "mat8=df8.T.to_numpy()\n",
    "mat16=df16.T.to_numpy()\n",
    "matIMU=dfIMU.T.to_numpy()\n"
   ]
  },
  {
   "cell_type": "code",
   "execution_count": null,
   "metadata": {},
   "outputs": [],
   "source": [
    "## All 3 accelerometers should be measuring the same magnitude and direction\n",
    "## Compare compare the relative measures to check for discrepancies\n",
    "\n",
    "fig=plt.figure()\n",
    "axs=fig.subplots(2,1,sharex=True)\n",
    "\n",
    "## use small angle approximation: sin(q) ~ q ~ |a x b|^2 / |a|^2 |b|^2 \n",
    "q8IMU=axb2(matIMU/np.sum(matIMU**2,axis=0),mat8/np.sum(mat8**2,axis=0),sumall=False)\n",
    "q816=axb2(matIMU/np.sum(matIMU**2,axis=0),mat16/np.sum(mat16**2,axis=0),sumall=False)\n",
    "q16IMU=axb2(mat16/np.sum(mat16**2,axis=0),mat8/np.sum(mat8**2,axis=0),sumall=False)\n",
    "\n",
    "axs[0].set_ylabel(\"Angle deviation (Deg)\")\n",
    "axs[0].plot(ts,(180/pi)*q8IMU)\n",
    "axs[0].plot(ts,(180/pi)*q816)\n",
    "axs[0].plot(ts,(180/pi)*q16IMU)\n",
    "\n",
    "## Plot the magnitude differences\n",
    "axs[1].set_ylabel(\"Relative magnitude\")\n",
    "axs[1].set_xlabel(\"time (s)\")\n",
    "w8IMU=np.sum(matIMU**2,axis=0)/np.sum(mat8**2,axis=0)\n",
    "w816=np.sum(mat16**2,axis=0)/np.sum(mat8**2,axis=0)\n",
    "wIMU16=np.sum(mat16**2,axis=0)/np.sum(matIMU**2,axis=0)\n",
    "axs[1].plot(ts,w8IMU)\n",
    "axs[1].plot(ts,w816)\n",
    "axs[1].plot(ts,wIMU16)\n"
   ]
  },
  {
   "cell_type": "code",
   "execution_count": null,
   "metadata": {},
   "outputs": [],
   "source": [
    "### Select the stable periods only periods\n",
    "intervals=[\\\n",
    "          (0,9),\\\n",
    "          (11,20),\\\n",
    "          (23,33),\\\n",
    "          (36.5,45.5),\\\n",
    "          (47,55),\\\n",
    "          (59,70),\\\n",
    "          ]          \n",
    "t_select,acc_select=idx_filter(ts,mat8,intervals)\n",
    "plt.plot(acc_select[0,:])\n",
    "plt.plot(acc_select[1,:])\n",
    "plt.plot(acc_select[2,:])"
   ]
  },
  {
   "cell_type": "code",
   "execution_count": null,
   "metadata": {},
   "outputs": [],
   "source": [
    "def cal_matrix(params):\n",
    "    return R(params[3:6]).dot(np.diag(params[0:3]))\n",
    "\n",
    "def MeanSqError(a,b):\n",
    "    return 3*np.mean(( a-b) **2 )"
   ]
  },
  {
   "cell_type": "code",
   "execution_count": null,
   "metadata": {},
   "outputs": [],
   "source": [
    "func=MeanSqErrorFunc(mat8,matIMU)"
   ]
  },
  {
   "cell_type": "code",
   "execution_count": null,
   "metadata": {},
   "outputs": [],
   "source": [
    "### Calibration doesnt seem to work??\n",
    "\n",
    "## Calibrate with rotation and scaling simultaneously\n",
    "scale=[1,1,1]\n",
    "lie_vec=np.array([0.00,0,0])\n",
    "#calibration_matrix=np.diag(scale).dot(R(lie_vec))\n",
    "#print(calibration_matrix)\n",
    "func=calibration_cost(mat8,matIMU)\n",
    "\n",
    "params=minimize(func,[1,1,1,0,0,0])\n",
    "scale0=params.x[0:3]\n",
    "lie_vec0=params.x[3:6]\n",
    "\n",
    "matIMU_cal=cal_matrix(params.x).dot(matIMU)\n",
    "print(cal_matrix(params.x))\n",
    "\n",
    "\n",
    "### Initial input\n",
    "w8IMU=np.sum(matIMU**2,axis=0)/np.sum(mat8**2,axis=0)\n",
    "q8IMU=axb2(matIMU/np.sum(matIMU**2,axis=0),mat8/np.sum(mat8**2,axis=0),sumall=False)\n",
    "\n",
    "### corrected input\n",
    "w8IMU0=np.sum(matIMU_cal**2,axis=0)/np.sum(mat8**2,axis=0)\n",
    "q8IMU0=axb2(matIMU_cal/np.sum(matIMU**2,axis=0),mat8/np.sum(mat8**2,axis=0),sumall=False)\n",
    "\n",
    "\n",
    "plt.subplot(2,1,1)\n",
    "plt.plot(ts,(180/pi)*q8IMU)\n",
    "plt.plot(ts,(180/pi)*q8IMU0)\n",
    "\n",
    "plt.subplot(2,1,2)\n",
    "plt.plot(ts,w8IMU)\n",
    "plt.plot(ts,w8IMU0)"
   ]
  },
  {
   "cell_type": "code",
   "execution_count": null,
   "metadata": {},
   "outputs": [],
   "source": []
  }
 ],
 "metadata": {
  "kernelspec": {
   "display_name": "Python 3",
   "language": "python",
   "name": "python3"
  },
  "language_info": {
   "codemirror_mode": {
    "name": "ipython",
    "version": 3
   },
   "file_extension": ".py",
   "mimetype": "text/x-python",
   "name": "python",
   "nbconvert_exporter": "python",
   "pygments_lexer": "ipython3",
   "version": "3.6.9"
  }
 },
 "nbformat": 4,
 "nbformat_minor": 2
}
