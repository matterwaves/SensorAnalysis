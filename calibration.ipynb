{
 "cells": [
  {
   "cell_type": "code",
   "execution_count": 3,
   "metadata": {},
   "outputs": [],
   "source": [
    "import pandas as pd\n",
    "import matplotlib.pyplot as plt\n",
    "import csv\n",
    "import numpy as np\n",
    "from scipy import fft\n",
    "from numpy import exp,sin,cos,pi\n",
    "from numpy.linalg import norm\n",
    "from pyquaternion import Quaternion \n",
    "from scipy.optimize import minimize\n",
    "\n",
    "from utils import *"
   ]
  },
  {
   "cell_type": "code",
   "execution_count": null,
   "metadata": {},
   "outputs": [],
   "source": [
    "## Read in the data\n",
    "raw_dat=load_endaq_log(\"data/accel_cal_\")"
   ]
  },
  {
   "cell_type": "code",
   "execution_count": 4,
   "metadata": {},
   "outputs": [],
   "source": [
    "\n",
    "## Downsample the accerometer measurements\n",
    "dfIMU=raw_dat['accIMU'].resample('30ms').apply(np.mean)\n",
    "df8=raw_dat['acc8'].resample('30ms').apply(np.mean)\n",
    "df16=raw_dat['acc16'].resample('30ms').apply(np.mean)\n",
    "\n",
    "\n",
    "## inject the IMU sensor timestamps and interpolate\n",
    "df8 = df8.reindex(df8.index.union(dfIMU.index)).interpolate()\n",
    "df16=df16.reindex(df16.index.union(dfIMU.index)).interpolate()\n",
    "\n",
    "## Slice out only the synchronous estimates\n",
    "df8=df8.loc[dfIMU.index]\n",
    "df16=df16.loc[dfIMU.index]\n",
    "\n",
    "## Reshape into matrix form for calculations\n",
    "ts=df8.index.to_numpy(dtype=np.float32)/1e9\n",
    "mat8=df8.T.to_numpy()\n",
    "mat16=df16.T.to_numpy()\n",
    "matIMU=dfIMU.T.to_numpy()\n"
   ]
  },
  {
   "cell_type": "code",
   "execution_count": 5,
   "metadata": {},
   "outputs": [
    {
     "data": {
      "text/plain": [
       "[<matplotlib.lines.Line2D at 0x7f9cc628c278>]"
      ]
     },
     "execution_count": 5,
     "metadata": {},
     "output_type": "execute_result"
    },
    {
     "data": {
      "image/png": "[encoded data removed]",
      "text/plain": [
       "<Figure size 432x288 with 2 Axes>"
      ]
     },
     "metadata": {
      "needs_background": "light"
     },
     "output_type": "display_data"
    }
   ],
   "source": [
    "## All 3 accelerometers should be measuring the same magnitude and direction\n",
    "## Compare compare the relative measures to check for discrepancies\n",
    "\n",
    "fig=plt.figure()\n",
    "axs=fig.subplots(2,1,sharex=True)\n",
    "\n",
    "## use small angle approximation: sin(q) ~ q ~ |a x b|^2 / |a|^2 |b|^2 \n",
    "q8IMU=axb2(matIMU/np.sum(matIMU**2,axis=0),mat8/np.sum(mat8**2,axis=0),sumall=False)\n",
    "q816=axb2(matIMU/np.sum(matIMU**2,axis=0),mat16/np.sum(mat16**2,axis=0),sumall=False)\n",
    "q16IMU=axb2(mat16/np.sum(mat16**2,axis=0),mat8/np.sum(mat8**2,axis=0),sumall=False)\n",
    "\n",
    "axs[0].set_ylabel(\"Angle deviation (Deg)\")\n",
    "axs[0].plot(ts,(180/pi)*q8IMU)\n",
    "axs[0].plot(ts,(180/pi)*q816)\n",
    "axs[0].plot(ts,(180/pi)*q16IMU)\n",
    "\n",
    "## Plot the magnitude differences\n",
    "axs[1].set_ylabel(\"Relative magnitude\")\n",
    "axs[1].set_xlabel(\"time (s)\")\n",
    "w8IMU=np.sum(matIMU**2,axis=0)/np.sum(mat8**2,axis=0)\n",
    "w816=np.sum(mat16**2,axis=0)/np.sum(mat8**2,axis=0)\n",
    "wIMU16=np.sum(mat16**2,axis=0)/np.sum(matIMU**2,axis=0)\n",
    "axs[1].plot(ts,w8IMU)\n",
    "axs[1].plot(ts,w816)\n",
    "axs[1].plot(ts,wIMU16)\n"
   ]
  },
  {
   "cell_type": "code",
   "execution_count": 6,
   "metadata": {},
   "outputs": [
    {
     "data": {
      "text/plain": [
       "[<matplotlib.lines.Line2D at 0x7f9cc61ae828>]"
      ]
     },
     "execution_count": 6,
     "metadata": {},
     "output_type": "execute_result"
    },
    {
     "data": {
      "image/png": "[encoded data removed]",
      "text/plain": [
       "<Figure size 432x288 with 1 Axes>"
      ]
     },
     "metadata": {
      "needs_background": "light"
     },
     "output_type": "display_data"
    }
   ],
   "source": [
    "### Select the stable periods only periods\n",
    "intervals=[\\\n",
    "          (0,9),\\\n",
    "          (11,20),\\\n",
    "          (23,33),\\\n",
    "          (36.5,45.5),\\\n",
    "          (47,55),\\\n",
    "          (59,70),\\\n",
    "          ]          \n",
    "t_select,acc_select=idx_filter(ts,mat8,intervals)\n",
    "plt.plot(acc_select[0,:])\n",
    "plt.plot(acc_select[1,:])\n",
    "plt.plot(acc_select[2,:])"
   ]
  },
  {
   "cell_type": "code",
   "execution_count": 8,
   "metadata": {},
   "outputs": [],
   "source": [
    "def cal_matrix(params):\n",
    "    return R(params[3:6]).dot(np.diag(params[0:3]))\n",
    "\n",
    "def MeanSqError(a,b):\n",
    "    return 3*np.mean(( a-b) **2 )"
   ]
  },
  {
   "cell_type": "code",
   "execution_count": 7,
   "metadata": {},
   "outputs": [],
   "source": [
    "func=MeanSqErrorFunc(mat8,matIMU)"
   ]
  },
  {
   "cell_type": "code",
   "execution_count": null,
   "metadata": {},
   "outputs": [],
   "source": [
    "### Calibration doesnt seem to work??\n",
    "\n",
    "## Calibrate with rotation and scaling simultaneously\n",
    "scale=[1,1,1]\n",
    "lie_vec=np.array([0.00,0,0])\n",
    "#calibration_matrix=np.diag(scale).dot(R(lie_vec))\n",
    "#print(calibration_matrix)\n",
    "func=calibration_cost(mat8,matIMU)\n",
    "\n",
    "params=minimize(func,[1,1,1,0,0,0])\n",
    "scale0=params.x[0:3]\n",
    "lie_vec0=params.x[3:6]\n",
    "\n",
    "matIMU_cal=cal_matrix(params.x).dot(matIMU)\n",
    "print(cal_matrix(params.x))\n",
    "\n",
    "\n",
    "### Initial input\n",
    "w8IMU=np.sum(matIMU**2,axis=0)/np.sum(mat8**2,axis=0)\n",
    "q8IMU=axb2(matIMU/np.sum(matIMU**2,axis=0),mat8/np.sum(mat8**2,axis=0),sumall=False)\n",
    "\n",
    "### corrected input\n",
    "w8IMU0=np.sum(matIMU_cal**2,axis=0)/np.sum(mat8**2,axis=0)\n",
    "q8IMU0=axb2(matIMU_cal/np.sum(matIMU**2,axis=0),mat8/np.sum(mat8**2,axis=0),sumall=False)\n",
    "\n",
    "\n",
    "plt.subplot(2,1,1)\n",
    "plt.plot(ts,(180/pi)*q8IMU)\n",
    "plt.plot(ts,(180/pi)*q8IMU0)\n",
    "\n",
    "plt.subplot(2,1,2)\n",
    "plt.plot(ts,w8IMU)\n",
    "plt.plot(ts,w8IMU0)"
   ]
  },
  {
   "cell_type": "code",
   "execution_count": null,
   "metadata": {},
   "outputs": [],
   "source": []
  }
 ],
 "metadata": {
  "kernelspec": {
   "display_name": "Python 3",
   "language": "python",
   "name": "python3"
  },
  "language_info": {
   "codemirror_mode": {
    "name": "ipython",
    "version": 3
   },
   "file_extension": ".py",
   "mimetype": "text/x-python",
   "name": "python",
   "nbconvert_exporter": "python",
   "pygments_lexer": "ipython3",
   "version": "3.6.9"
  }
 },
 "nbformat": 4,
 "nbformat_minor": 2
}
