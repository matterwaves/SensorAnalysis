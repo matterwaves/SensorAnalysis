{
 "cells": [
  {
   "cell_type": "code",
   "execution_count": 8,
   "metadata": {},
   "outputs": [],
   "source": [
    "import pandas as pd\n",
    "from matplotlib import pyplot as plt\n",
    "\n",
    "from utils import *"
   ]
  },
  {
   "cell_type": "code",
   "execution_count": 2,
   "metadata": {},
   "outputs": [
    {
     "name": "stdout",
     "output_type": "stream",
     "text": [
      "IMU 137721\n",
      "IMU2 137718\n",
      "IMU3 137712\n",
      "MAG2 4594\n",
      "MAG3 4594\n"
     ]
    }
   ],
   "source": [
    "# Relative path to  logfile\n",
    "logfile=\"00000246.log\"\n",
    "# List of sensor names to retain\n",
    "keys=[\"IMU\",\"IMU2\",\"IMU3\",\"MAG2\",\"MAG3\"]\n",
    "\n",
    "data_dict=parse_arducopter_log(logfile,keys=keys)\n",
    "\n",
    "for key in keys:\n",
    "    print(key, len(data_dict[key]))"
   ]
  },
  {
   "cell_type": "code",
   "execution_count": 3,
   "metadata": {},
   "outputs": [
    {
     "data": {
      "text/html": [
       "<div>\n",
       "<style scoped>\n",
       "    .dataframe tbody tr th:only-of-type {\n",
       "        vertical-align: middle;\n",
       "    }\n",
       "\n",
       "    .dataframe tbody tr th {\n",
       "        vertical-align: top;\n",
       "    }\n",
       "\n",
       "    .dataframe thead th {\n",
       "        text-align: right;\n",
       "    }\n",
       "</style>\n",
       "<table border=\"1\" class=\"dataframe\">\n",
       "  <thead>\n",
       "    <tr style=\"text-align: right;\">\n",
       "      <th></th>\n",
       "      <th>TimeUS</th>\n",
       "      <th>GyrX</th>\n",
       "      <th>GyrY</th>\n",
       "      <th>GyrZ</th>\n",
       "      <th>AccX</th>\n",
       "      <th>AccY</th>\n",
       "      <th>AccZ</th>\n",
       "      <th>EG</th>\n",
       "      <th>EA</th>\n",
       "      <th>T</th>\n",
       "      <th>GH</th>\n",
       "      <th>AH</th>\n",
       "      <th>GHz</th>\n",
       "      <th>AHz</th>\n",
       "    </tr>\n",
       "  </thead>\n",
       "  <tbody>\n",
       "    <tr>\n",
       "      <th>0</th>\n",
       "      <td>4438355</td>\n",
       "      <td>-0.0008524515</td>\n",
       "      <td>-0.000697883</td>\n",
       "      <td>-0.000595619</td>\n",
       "      <td>0.03722752</td>\n",
       "      <td>0.2627906</td>\n",
       "      <td>-9.805243</td>\n",
       "      <td>0</td>\n",
       "      <td>0</td>\n",
       "      <td>37.26019</td>\n",
       "      <td>1</td>\n",
       "      <td>1</td>\n",
       "      <td>8002</td>\n",
       "      <td>4001</td>\n",
       "    </tr>\n",
       "    <tr>\n",
       "      <th>1</th>\n",
       "      <td>4441127</td>\n",
       "      <td>-0.0007974237</td>\n",
       "      <td>-0.0005121985</td>\n",
       "      <td>-0.0006724149</td>\n",
       "      <td>0.0381674</td>\n",
       "      <td>0.2639484</td>\n",
       "      <td>-9.807813</td>\n",
       "      <td>0</td>\n",
       "      <td>0</td>\n",
       "      <td>37.26051</td>\n",
       "      <td>1</td>\n",
       "      <td>1</td>\n",
       "      <td>8002</td>\n",
       "      <td>4001</td>\n",
       "    </tr>\n",
       "    <tr>\n",
       "      <th>2</th>\n",
       "      <td>4444680</td>\n",
       "      <td>-0.0005658244</td>\n",
       "      <td>-0.0003922235</td>\n",
       "      <td>-0.0007411266</td>\n",
       "      <td>0.03760198</td>\n",
       "      <td>0.2674761</td>\n",
       "      <td>-9.802548</td>\n",
       "      <td>0</td>\n",
       "      <td>0</td>\n",
       "      <td>37.26093</td>\n",
       "      <td>1</td>\n",
       "      <td>1</td>\n",
       "      <td>8002</td>\n",
       "      <td>4001</td>\n",
       "    </tr>\n",
       "    <tr>\n",
       "      <th>3</th>\n",
       "      <td>4447892</td>\n",
       "      <td>-0.0002742439</td>\n",
       "      <td>-0.0003367652</td>\n",
       "      <td>-0.0006314474</td>\n",
       "      <td>0.03936158</td>\n",
       "      <td>0.2674856</td>\n",
       "      <td>-9.798277</td>\n",
       "      <td>0</td>\n",
       "      <td>0</td>\n",
       "      <td>37.26124</td>\n",
       "      <td>1</td>\n",
       "      <td>1</td>\n",
       "      <td>8002</td>\n",
       "      <td>4001</td>\n",
       "    </tr>\n",
       "    <tr>\n",
       "      <th>4</th>\n",
       "      <td>4451153</td>\n",
       "      <td>-0.0001819045</td>\n",
       "      <td>-0.0002007063</td>\n",
       "      <td>-0.0002419964</td>\n",
       "      <td>0.04247655</td>\n",
       "      <td>0.2665407</td>\n",
       "      <td>-9.798761</td>\n",
       "      <td>0</td>\n",
       "      <td>0</td>\n",
       "      <td>37.26154</td>\n",
       "      <td>1</td>\n",
       "      <td>1</td>\n",
       "      <td>8002</td>\n",
       "      <td>4001</td>\n",
       "    </tr>\n",
       "    <tr>\n",
       "      <th>...</th>\n",
       "      <td>...</td>\n",
       "      <td>...</td>\n",
       "      <td>...</td>\n",
       "      <td>...</td>\n",
       "      <td>...</td>\n",
       "      <td>...</td>\n",
       "      <td>...</td>\n",
       "      <td>...</td>\n",
       "      <td>...</td>\n",
       "      <td>...</td>\n",
       "      <td>...</td>\n",
       "      <td>...</td>\n",
       "      <td>...</td>\n",
       "      <td>...</td>\n",
       "    </tr>\n",
       "    <tr>\n",
       "      <th>137716</th>\n",
       "      <td>468384275</td>\n",
       "      <td>-0.058489</td>\n",
       "      <td>-0.004813456</td>\n",
       "      <td>-0.0007283471</td>\n",
       "      <td>0.01352293</td>\n",
       "      <td>0.1292154</td>\n",
       "      <td>-9.757228</td>\n",
       "      <td>0</td>\n",
       "      <td>0</td>\n",
       "      <td>45.06082</td>\n",
       "      <td>1</td>\n",
       "      <td>1</td>\n",
       "      <td>8005</td>\n",
       "      <td>4002</td>\n",
       "    </tr>\n",
       "    <tr>\n",
       "      <th>137717</th>\n",
       "      <td>468386912</td>\n",
       "      <td>-0.05871956</td>\n",
       "      <td>-0.005027758</td>\n",
       "      <td>-0.001145433</td>\n",
       "      <td>-0.0295123</td>\n",
       "      <td>0.1305907</td>\n",
       "      <td>-9.7115</td>\n",
       "      <td>0</td>\n",
       "      <td>0</td>\n",
       "      <td>45.06084</td>\n",
       "      <td>1</td>\n",
       "      <td>1</td>\n",
       "      <td>8005</td>\n",
       "      <td>4002</td>\n",
       "    </tr>\n",
       "    <tr>\n",
       "      <th>137718</th>\n",
       "      <td>468390879</td>\n",
       "      <td>-0.05842659</td>\n",
       "      <td>-0.004666974</td>\n",
       "      <td>-0.001170849</td>\n",
       "      <td>-0.06633628</td>\n",
       "      <td>0.1275187</td>\n",
       "      <td>-9.689879</td>\n",
       "      <td>0</td>\n",
       "      <td>0</td>\n",
       "      <td>45.06085</td>\n",
       "      <td>1</td>\n",
       "      <td>1</td>\n",
       "      <td>8005</td>\n",
       "      <td>4002</td>\n",
       "    </tr>\n",
       "    <tr>\n",
       "      <th>137719</th>\n",
       "      <td>468394404</td>\n",
       "      <td>-0.0576868</td>\n",
       "      <td>-0.002776413</td>\n",
       "      <td>-0.001238335</td>\n",
       "      <td>-0.09811034</td>\n",
       "      <td>0.08634488</td>\n",
       "      <td>-9.675607</td>\n",
       "      <td>0</td>\n",
       "      <td>0</td>\n",
       "      <td>45.06087</td>\n",
       "      <td>1</td>\n",
       "      <td>1</td>\n",
       "      <td>8005</td>\n",
       "      <td>4002</td>\n",
       "    </tr>\n",
       "    <tr>\n",
       "      <th>137720</th>\n",
       "      <td>468396933</td>\n",
       "      <td>-0.05949393</td>\n",
       "      <td>-0.000682374</td>\n",
       "      <td>-0.001640551</td>\n",
       "      <td>-0.1112565</td>\n",
       "      <td>0.04504755</td>\n",
       "      <td>-9.65654</td>\n",
       "      <td>0</td>\n",
       "      <td>0</td>\n",
       "      <td>45.06089</td>\n",
       "      <td>1</td>\n",
       "      <td>1</td>\n",
       "      <td>8005</td>\n",
       "      <td>4002</td>\n",
       "    </tr>\n",
       "  </tbody>\n",
       "</table>\n",
       "<p>137721 rows × 14 columns</p>\n",
       "</div>"
      ],
      "text/plain": [
       "            TimeUS            GyrX            GyrY            GyrZ  \\\n",
       "0          4438355   -0.0008524515    -0.000697883    -0.000595619   \n",
       "1          4441127   -0.0007974237   -0.0005121985   -0.0006724149   \n",
       "2          4444680   -0.0005658244   -0.0003922235   -0.0007411266   \n",
       "3          4447892   -0.0002742439   -0.0003367652   -0.0006314474   \n",
       "4          4451153   -0.0001819045   -0.0002007063   -0.0002419964   \n",
       "...            ...             ...             ...             ...   \n",
       "137716   468384275       -0.058489    -0.004813456   -0.0007283471   \n",
       "137717   468386912     -0.05871956    -0.005027758    -0.001145433   \n",
       "137718   468390879     -0.05842659    -0.004666974    -0.001170849   \n",
       "137719   468394404      -0.0576868    -0.002776413    -0.001238335   \n",
       "137720   468396933     -0.05949393    -0.000682374    -0.001640551   \n",
       "\n",
       "                AccX         AccY        AccZ  EG  EA          T  GH  AH  \\\n",
       "0         0.03722752    0.2627906   -9.805243   0   0   37.26019   1   1   \n",
       "1          0.0381674    0.2639484   -9.807813   0   0   37.26051   1   1   \n",
       "2         0.03760198    0.2674761   -9.802548   0   0   37.26093   1   1   \n",
       "3         0.03936158    0.2674856   -9.798277   0   0   37.26124   1   1   \n",
       "4         0.04247655    0.2665407   -9.798761   0   0   37.26154   1   1   \n",
       "...              ...          ...         ...  ..  ..        ...  ..  ..   \n",
       "137716    0.01352293    0.1292154   -9.757228   0   0   45.06082   1   1   \n",
       "137717    -0.0295123    0.1305907     -9.7115   0   0   45.06084   1   1   \n",
       "137718   -0.06633628    0.1275187   -9.689879   0   0   45.06085   1   1   \n",
       "137719   -0.09811034   0.08634488   -9.675607   0   0   45.06087   1   1   \n",
       "137720    -0.1112565   0.04504755    -9.65654   0   0   45.06089   1   1   \n",
       "\n",
       "          GHz    AHz  \n",
       "0        8002   4001  \n",
       "1        8002   4001  \n",
       "2        8002   4001  \n",
       "3        8002   4001  \n",
       "4        8002   4001  \n",
       "...       ...    ...  \n",
       "137716   8005   4002  \n",
       "137717   8005   4002  \n",
       "137718   8005   4002  \n",
       "137719   8005   4002  \n",
       "137720   8005   4002  \n",
       "\n",
       "[137721 rows x 14 columns]"
      ]
     },
     "execution_count": 3,
     "metadata": {},
     "output_type": "execute_result"
    }
   ],
   "source": [
    "data_dict[\"IMU\"]"
   ]
  },
  {
   "cell_type": "code",
   "execution_count": 73,
   "metadata": {},
   "outputs": [],
   "source": [
    "## Format the sensor data into the correct numpy data types\n",
    "IMU=data_dict[\"IMU\"]\n",
    "gyro=np.array([IMU['GyrX'],IMU['GyrY'],IMU['GyrZ']],dtype=np.float).T\n",
    "acc=np.array([IMU['AccX'],IMU['AccY'],IMU['AccZ']],dtype=np.float).T\n",
    "mag=np.zeros(np.shape(acc))\n",
    "ts=np.array(IMU['TimeUS'],dtype=np.float)/1e6\n",
    "Ts=np.array(IMU['T'],dtype=np.float)\n",
    "\n",
    "\n",
    "\n",
    "##Use a hand-picked quiet value to determine the gravity estimate \n",
    "#using ts\n",
    "mask= (25<ts) & (ts<110)\n",
    "\n",
    "#Usings Ts\n",
    "#mask= (39<ts) & (ts<41)\n",
    "\n",
    "\n",
    "g=np.array([0,0,1])*np.linalg.norm(np.mean(acc[mask,:],axis=0))\n",
    "acc_lab,Q,state=apply_ahrs(gyro,acc,mag,ts,g=g,position=True,zero_period=1)"
   ]
  },
  {
   "cell_type": "code",
   "execution_count": 75,
   "metadata": {},
   "outputs": [
    {
     "data": {
      "text/plain": [
       "[<matplotlib.lines.Line2D at 0x7f3e0d08ec40>]"
      ]
     },
     "execution_count": 75,
     "metadata": {},
     "output_type": "execute_result"
    },
    {
     "data": {
      "image/png": "[encoded data removed]",
      "text/plain": [
       "<Figure size 432x288 with 1 Axes>"
      ]
     },
     "metadata": {
      "needs_background": "light"
     },
     "output_type": "display_data"
    }
   ],
   "source": [
    "mask= (37<ts) & (ts<230)\n",
    "\n",
    "plt.plot(ts[mask],state[mask,0],color=\"r\")\n",
    "plt.plot(ts[mask],state[mask,1],color=\"g\")\n",
    "#plt.plot(ts[mask],state[mask,2],color=\"b\")"
   ]
  },
  {
   "cell_type": "code",
   "execution_count": 65,
   "metadata": {},
   "outputs": [
    {
     "data": {
      "text/plain": [
       "[<matplotlib.lines.Line2D at 0x7f3e0d1af430>]"
      ]
     },
     "execution_count": 65,
     "metadata": {},
     "output_type": "execute_result"
    },
    {
     "data": {
      "image/png": "[encoded data removed]",
      "text/plain": [
       "<Figure size 432x288 with 1 Axes>"
      ]
     },
     "metadata": {
      "needs_background": "light"
     },
     "output_type": "display_data"
    }
   ],
   "source": [
    "mask= (39<ts) & (ts<41)\n",
    "\n",
    "plt.plot(ts[mask],acc[mask,0])\n",
    "plt.plot(ts[mask],acc[mask,1])\n",
    "plt.plot(ts[mask],acc[mask,2]+9.81)"
   ]
  },
  {
   "cell_type": "code",
   "execution_count": 74,
   "metadata": {},
   "outputs": [
    {
     "data": {
      "text/plain": [
       "[<matplotlib.lines.Line2D at 0x7f3e0d05b4c0>]"
      ]
     },
     "execution_count": 74,
     "metadata": {},
     "output_type": "execute_result"
    },
    {
     "data": {
      "image/png": "[encoded data removed]",
      "text/plain": [
       "<Figure size 432x288 with 1 Axes>"
      ]
     },
     "metadata": {
      "needs_background": "light"
     },
     "output_type": "display_data"
    }
   ],
   "source": [
    "plt.plot(ts,Ts)"
   ]
  },
  {
   "cell_type": "code",
   "execution_count": null,
   "metadata": {},
   "outputs": [],
   "source": []
  }
 ],
 "metadata": {
  "kernelspec": {
   "display_name": "Python 3",
   "language": "python",
   "name": "python3"
  },
  "language_info": {
   "codemirror_mode": {
    "name": "ipython",
    "version": 3
   },
   "file_extension": ".py",
   "mimetype": "text/x-python",
   "name": "python",
   "nbconvert_exporter": "python",
   "pygments_lexer": "ipython3",
   "version": "3.8.3"
  }
 },
 "nbformat": 4,
 "nbformat_minor": 4
}
